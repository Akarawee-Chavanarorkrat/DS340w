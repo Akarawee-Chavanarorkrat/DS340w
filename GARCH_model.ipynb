{
  "nbformat": 4,
  "nbformat_minor": 0,
  "metadata": {
    "colab": {
      "name": "GARCH model.ipynb",
      "provenance": [],
      "collapsed_sections": []
    },
    "kernelspec": {
      "name": "python3",
      "display_name": "Python 3"
    },
    "language_info": {
      "name": "python"
    }
  },
  "cells": [
    {
      "cell_type": "code",
      "metadata": {
        "id": "Jc26P-axcrP3"
      },
      "source": [
        "!pip install arch\n",
        "!pip install yfinance"
      ],
      "execution_count": null,
      "outputs": []
    },
    {
      "cell_type": "code",
      "metadata": {
        "id": "LEBtwk7pcxsS"
      },
      "source": [
        "import arch\n",
        "import statsmodels.api as sm\n",
        "import yfinance\n",
        "\n",
        "import pandas as pd\n",
        "import numpy as np\n",
        "import matplotlib.pyplot as plt"
      ],
      "execution_count": null,
      "outputs": []
    },
    {
      "cell_type": "code",
      "metadata": {
        "colab": {
          "base_uri": "https://localhost:8080/",
          "height": 238
        },
        "id": "DcECDvDti3Ae",
        "outputId": "491bf21b-7808-4226-d2da-cdaed2824011"
      },
      "source": [
        "GetDJIinfo = yfinance.Ticker(\"^DJI\")\n",
        "\n",
        "DJIA = GetDJIinfo.history(period=\"max\")\n",
        "DJIA.head()"
      ],
      "execution_count": null,
      "outputs": [
        {
          "output_type": "execute_result",
          "data": {
            "text/html": [
              "<div>\n",
              "<style scoped>\n",
              "    .dataframe tbody tr th:only-of-type {\n",
              "        vertical-align: middle;\n",
              "    }\n",
              "\n",
              "    .dataframe tbody tr th {\n",
              "        vertical-align: top;\n",
              "    }\n",
              "\n",
              "    .dataframe thead th {\n",
              "        text-align: right;\n",
              "    }\n",
              "</style>\n",
              "<table border=\"1\" class=\"dataframe\">\n",
              "  <thead>\n",
              "    <tr style=\"text-align: right;\">\n",
              "      <th></th>\n",
              "      <th>Open</th>\n",
              "      <th>High</th>\n",
              "      <th>Low</th>\n",
              "      <th>Close</th>\n",
              "      <th>Volume</th>\n",
              "      <th>Dividends</th>\n",
              "      <th>Stock Splits</th>\n",
              "    </tr>\n",
              "    <tr>\n",
              "      <th>Date</th>\n",
              "      <th></th>\n",
              "      <th></th>\n",
              "      <th></th>\n",
              "      <th></th>\n",
              "      <th></th>\n",
              "      <th></th>\n",
              "      <th></th>\n",
              "    </tr>\n",
              "  </thead>\n",
              "  <tbody>\n",
              "    <tr>\n",
              "      <th>1992-01-02</th>\n",
              "      <td>3152.100098</td>\n",
              "      <td>3172.629883</td>\n",
              "      <td>3139.310059</td>\n",
              "      <td>3172.399902</td>\n",
              "      <td>23550000</td>\n",
              "      <td>0</td>\n",
              "      <td>0</td>\n",
              "    </tr>\n",
              "    <tr>\n",
              "      <th>1992-01-03</th>\n",
              "      <td>3172.399902</td>\n",
              "      <td>3210.639893</td>\n",
              "      <td>3165.919922</td>\n",
              "      <td>3201.500000</td>\n",
              "      <td>23620000</td>\n",
              "      <td>0</td>\n",
              "      <td>0</td>\n",
              "    </tr>\n",
              "    <tr>\n",
              "      <th>1992-01-06</th>\n",
              "      <td>3201.500000</td>\n",
              "      <td>3213.330078</td>\n",
              "      <td>3191.860107</td>\n",
              "      <td>3200.100098</td>\n",
              "      <td>27280000</td>\n",
              "      <td>0</td>\n",
              "      <td>0</td>\n",
              "    </tr>\n",
              "    <tr>\n",
              "      <th>1992-01-07</th>\n",
              "      <td>3200.100098</td>\n",
              "      <td>3210.199951</td>\n",
              "      <td>3184.479980</td>\n",
              "      <td>3204.800049</td>\n",
              "      <td>25510000</td>\n",
              "      <td>0</td>\n",
              "      <td>0</td>\n",
              "    </tr>\n",
              "    <tr>\n",
              "      <th>1992-01-08</th>\n",
              "      <td>3204.800049</td>\n",
              "      <td>3229.199951</td>\n",
              "      <td>3185.820068</td>\n",
              "      <td>3203.899902</td>\n",
              "      <td>29040000</td>\n",
              "      <td>0</td>\n",
              "      <td>0</td>\n",
              "    </tr>\n",
              "  </tbody>\n",
              "</table>\n",
              "</div>"
            ],
            "text/plain": [
              "                   Open         High  ...  Dividends  Stock Splits\n",
              "Date                                  ...                         \n",
              "1992-01-02  3152.100098  3172.629883  ...          0             0\n",
              "1992-01-03  3172.399902  3210.639893  ...          0             0\n",
              "1992-01-06  3201.500000  3213.330078  ...          0             0\n",
              "1992-01-07  3200.100098  3210.199951  ...          0             0\n",
              "1992-01-08  3204.800049  3229.199951  ...          0             0\n",
              "\n",
              "[5 rows x 7 columns]"
            ]
          },
          "metadata": {},
          "execution_count": 8
        }
      ]
    },
    {
      "cell_type": "code",
      "metadata": {
        "colab": {
          "base_uri": "https://localhost:8080/",
          "height": 283
        },
        "id": "aJdMyrxojnRr",
        "outputId": "2b11aa45-f7cc-4ec5-88e1-d1ec59f0e543"
      },
      "source": [
        "plt.plot(DJIA['Close'])"
      ],
      "execution_count": null,
      "outputs": [
        {
          "output_type": "execute_result",
          "data": {
            "text/plain": [
              "[<matplotlib.lines.Line2D at 0x7f4be8a0bd90>]"
            ]
          },
          "metadata": {},
          "execution_count": 11
        },
        {
          "output_type": "display_data",
          "data": {
            "image/png": "[encoded data removed]",
            "text/plain": [
              "<Figure size 432x288 with 1 Axes>"
            ]
          },
          "metadata": {
            "needs_background": "light"
          }
        }
      ]
    },
    {
      "cell_type": "code",
      "metadata": {
        "colab": {
          "base_uri": "https://localhost:8080/",
          "height": 283
        },
        "id": "kcfg2nqlm7j-",
        "outputId": "a5e75fa2-6db6-41be-dfec-973125dd8e80"
      },
      "source": [
        "returns = DJIA['Close'].pct_change().dropna()\n",
        "plt.plot(returns)"
      ],
      "execution_count": null,
      "outputs": [
        {
          "output_type": "execute_result",
          "data": {
            "text/plain": [
              "[<matplotlib.lines.Line2D at 0x7f4be7fdbed0>]"
            ]
          },
          "metadata": {},
          "execution_count": 38
        },
        {
          "output_type": "display_data",
          "data": {
            "image/png": "[encoded data removed]",
            "text/plain": [
              "<Figure size 432x288 with 1 Axes>"
            ]
          },
          "metadata": {
            "needs_background": "light"
          }
        }
      ]
    },
    {
      "cell_type": "code",
      "metadata": {
        "id": "xslMy60qj4xo"
      },
      "source": [
        "def calculate_volatility(array,window_size):\n",
        "  volatility_array = np.zeros(len(array) - 2 * window_size)\n",
        "  array = np.array(array)\n",
        "  for i in range(len(array)-2*window_size):\n",
        "    volatility_array[i] = np.var(array[i:i+window_size])\n",
        "  return volatility_array\n",
        "\n",
        "close_price_volatility = calculate_volatility(DJIA['Close'],5)\n",
        "plt.plot(close_price_volatility)"
      ],
      "execution_count": null,
      "outputs": []
    },
    {
      "cell_type": "code",
      "metadata": {
        "colab": {
          "base_uri": "https://localhost:8080/"
        },
        "id": "bysUZZqEq8UQ",
        "outputId": "670da0a3-2221-4768-dd05-aa5942906ff7"
      },
      "source": [
        "am = arch.arch_model(returns)\n",
        "res = am.fit()\n",
        "print(res.summary())"
      ],
      "execution_count": null,
      "outputs": [
        {
          "output_type": "stream",
          "name": "stdout",
          "text": [
            "Iteration:      1,   Func. Count:      6,   Neg. LLF: -24862.923262393982\n",
            "Inequality constraints incompatible    (Exit mode 4)\n",
            "            Current function value: -24862.923297288682\n",
            "            Iterations: 1\n",
            "            Function evaluations: 6\n",
            "            Gradient evaluations: 1\n",
            "                     Constant Mean - GARCH Model Results                      \n",
            "==============================================================================\n",
            "Dep. Variable:                  Close   R-squared:                       0.000\n",
            "Mean Model:             Constant Mean   Adj. R-squared:                  0.000\n",
            "Vol Model:                      GARCH   Log-Likelihood:                24862.9\n",
            "Distribution:                  Normal   AIC:                          -49717.8\n",
            "Method:            Maximum Likelihood   BIC:                          -49690.2\n",
            "                                        No. Observations:                 7509\n",
            "Date:                Sat, Oct 23 2021   Df Residuals:                     7508\n",
            "Time:                        01:06:19   Df Model:                            1\n",
            "                                 Mean Model                                 \n",
            "============================================================================\n",
            "                 coef    std err          t      P>|t|      95.0% Conf. Int.\n",
            "----------------------------------------------------------------------------\n",
            "mu         3.8459e-04  1.044e-05     36.837 4.770e-297 [3.641e-04,4.050e-04]\n",
            "                              Volatility Model                              \n",
            "============================================================================\n",
            "                 coef    std err          t      P>|t|      95.0% Conf. Int.\n",
            "----------------------------------------------------------------------------\n",
            "omega      2.4855e-06  7.975e-12  3.117e+05      0.000 [2.485e-06,2.486e-06]\n",
            "alpha[1]       0.1000  8.850e-03     11.299  1.323e-29   [8.265e-02,  0.117]\n",
            "beta[1]        0.8800  6.387e-03    137.783      0.000     [  0.867,  0.893]\n",
            "============================================================================\n",
            "\n",
            "Covariance estimator: robust\n",
            "WARNING: The optimizer did not indicate successful convergence. The message was Inequality constraints incompatible.\n",
            "See convergence_flag.\n",
            "\n"
          ]
        },
        {
          "output_type": "stream",
          "name": "stderr",
          "text": [
            "/usr/local/lib/python3.7/dist-packages/arch/univariate/base.py:310: DataScaleWarning: y is poorly scaled, which may affect convergence of the optimizer when\n",
            "estimating the model parameters. The scale of y is 0.0001243. Parameter\n",
            "estimation work better when this value is between 1 and 1000. The recommended\n",
            "rescaling is 100 * y.\n",
            "\n",
            "This warning can be disabled by either rescaling y before initializing the\n",
            "model or by setting rescale=False.\n",
            "\n",
            "  data_scale_warning.format(orig_scale, rescale), DataScaleWarning\n",
            "/usr/local/lib/python3.7/dist-packages/arch/univariate/base.py:755: ConvergenceWarning: The optimizer returned code 4. The message is:\n",
            "Inequality constraints incompatible\n",
            "See scipy.optimize.fmin_slsqp for code meaning.\n",
            "\n",
            "  ConvergenceWarning,\n"
          ]
        }
      ]
    },
    {
      "cell_type": "code",
      "metadata": {
        "colab": {
          "base_uri": "https://localhost:8080/"
        },
        "id": "G8oftRAhrPGB",
        "outputId": "31d094d3-1561-45d4-d732-99d4d2c5d970"
      },
      "source": [
        "returns.autocorr()"
      ],
      "execution_count": null,
      "outputs": [
        {
          "output_type": "execute_result",
          "data": {
            "text/plain": [
              "-0.09164367416129784"
            ]
          },
          "metadata": {},
          "execution_count": 42
        }
      ]
    },
    {
      "cell_type": "code",
      "metadata": {
        "colab": {
          "base_uri": "https://localhost:8080/",
          "height": 430
        },
        "id": "_7j-ZAFsuurv",
        "outputId": "a0fd46e2-9fab-4151-d361-eb20543cc038"
      },
      "source": [
        "plt.acorr(returns)"
      ],
      "execution_count": null,
      "outputs": [
        {
          "output_type": "execute_result",
          "data": {
            "text/plain": [
              "(array([-10,  -9,  -8,  -7,  -6,  -5,  -4,  -3,  -2,  -1,   0,   1,   2,\n",
              "          3,   4,   5,   6,   7,   8,   9,  10]),\n",
              " array([ 0.00668626,  0.03957665, -0.0273951 ,  0.03246262, -0.03818932,\n",
              "        -0.01594631, -0.02416555,  0.00843774,  0.00464093, -0.09034653,\n",
              "         1.        , -0.09034653,  0.00464093,  0.00843774, -0.02416555,\n",
              "        -0.01594631, -0.03818932,  0.03246262, -0.0273951 ,  0.03957665,\n",
              "         0.00668626]),\n",
              " <matplotlib.collections.LineCollection at 0x7f4be7efe450>,\n",
              " <matplotlib.lines.Line2D at 0x7f4be7efea10>)"
            ]
          },
          "metadata": {},
          "execution_count": 43
        },
        {
          "output_type": "display_data",
          "data": {
            "image/png": "[encoded data removed]",
            "text/plain": [
              "<Figure size 432x288 with 1 Axes>"
            ]
          },
          "metadata": {
            "needs_background": "light"
          }
        }
      ]
    },
    {
      "cell_type": "code",
      "metadata": {
        "id": "-nKWxsihu9Gl"
      },
      "source": [
        ""
      ],
      "execution_count": null,
      "outputs": []
    }
  ]
}