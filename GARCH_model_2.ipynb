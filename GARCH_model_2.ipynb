{
  "nbformat": 4,
  "nbformat_minor": 0,
  "metadata": {
    "colab": {
      "name": "GARCH model 2.ipynb",
      "provenance": [],
      "collapsed_sections": []
    },
    "kernelspec": {
      "display_name": "Python 3",
      "name": "python3"
    },
    "language_info": {
      "name": "python"
    }
  },
  "cells": [
    {
      "cell_type": "code",
      "metadata": {
        "id": "Jc26P-axcrP3"
      },
      "source": [
        "!pip install arch\n",
        "!pip install yfinance"
      ],
      "execution_count": null,
      "outputs": []
    },
    {
      "cell_type": "code",
      "metadata": {
        "id": "LEBtwk7pcxsS"
      },
      "source": [
        "import arch\n",
        "import statsmodels.api as sm\n",
        "import yfinance\n",
        "\n",
        "import pandas as pd\n",
        "import numpy as np\n",
        "import matplotlib.pyplot as plt"
      ],
      "execution_count": null,
      "outputs": []
    },
    {
      "cell_type": "code",
      "metadata": {
        "colab": {
          "base_uri": "https://localhost:8080/",
          "height": 238
        },
        "id": "DcECDvDti3Ae",
        "outputId": "e0779322-f01c-4ef1-eeb5-c5e309f6af59"
      },
      "source": [
        "GetDJIinfo = yfinance.Ticker(\"^DJI\")\n",
        "DJIA = GetDJIinfo.history(period=\"2y\")\n",
        "DJIA.head()"
      ],
      "execution_count": null,
      "outputs": [
        {
          "output_type": "execute_result",
          "data": {
            "text/html": [
              "<div>\n",
              "<style scoped>\n",
              "    .dataframe tbody tr th:only-of-type {\n",
              "        vertical-align: middle;\n",
              "    }\n",
              "\n",
              "    .dataframe tbody tr th {\n",
              "        vertical-align: top;\n",
              "    }\n",
              "\n",
              "    .dataframe thead th {\n",
              "        text-align: right;\n",
              "    }\n",
              "</style>\n",
              "<table border=\"1\" class=\"dataframe\">\n",
              "  <thead>\n",
              "    <tr style=\"text-align: right;\">\n",
              "      <th></th>\n",
              "      <th>Open</th>\n",
              "      <th>High</th>\n",
              "      <th>Low</th>\n",
              "      <th>Close</th>\n",
              "      <th>Volume</th>\n",
              "      <th>Dividends</th>\n",
              "      <th>Stock Splits</th>\n",
              "    </tr>\n",
              "    <tr>\n",
              "      <th>Date</th>\n",
              "      <th></th>\n",
              "      <th></th>\n",
              "      <th></th>\n",
              "      <th></th>\n",
              "      <th></th>\n",
              "      <th></th>\n",
              "      <th></th>\n",
              "    </tr>\n",
              "  </thead>\n",
              "  <tbody>\n",
              "    <tr>\n",
              "      <th>2019-10-23</th>\n",
              "      <td>26835.240234</td>\n",
              "      <td>26896.890625</td>\n",
              "      <td>26745.000000</td>\n",
              "      <td>26833.949219</td>\n",
              "      <td>247680000</td>\n",
              "      <td>0</td>\n",
              "      <td>0</td>\n",
              "    </tr>\n",
              "    <tr>\n",
              "      <th>2019-10-24</th>\n",
              "      <td>26893.929688</td>\n",
              "      <td>26931.779297</td>\n",
              "      <td>26714.339844</td>\n",
              "      <td>26805.529297</td>\n",
              "      <td>253590000</td>\n",
              "      <td>0</td>\n",
              "      <td>0</td>\n",
              "    </tr>\n",
              "    <tr>\n",
              "      <th>2019-10-25</th>\n",
              "      <td>26789.609375</td>\n",
              "      <td>27015.369141</td>\n",
              "      <td>26765.679688</td>\n",
              "      <td>26958.060547</td>\n",
              "      <td>274610000</td>\n",
              "      <td>0</td>\n",
              "      <td>0</td>\n",
              "    </tr>\n",
              "    <tr>\n",
              "      <th>2019-10-28</th>\n",
              "      <td>27040.330078</td>\n",
              "      <td>27167.880859</td>\n",
              "      <td>27028.710938</td>\n",
              "      <td>27090.720703</td>\n",
              "      <td>290770000</td>\n",
              "      <td>0</td>\n",
              "      <td>0</td>\n",
              "    </tr>\n",
              "    <tr>\n",
              "      <th>2019-10-29</th>\n",
              "      <td>27061.070312</td>\n",
              "      <td>27165.939453</td>\n",
              "      <td>27039.759766</td>\n",
              "      <td>27071.460938</td>\n",
              "      <td>269610000</td>\n",
              "      <td>0</td>\n",
              "      <td>0</td>\n",
              "    </tr>\n",
              "  </tbody>\n",
              "</table>\n",
              "</div>"
            ],
            "text/plain": [
              "                    Open          High  ...  Dividends  Stock Splits\n",
              "Date                                    ...                         \n",
              "2019-10-23  26835.240234  26896.890625  ...          0             0\n",
              "2019-10-24  26893.929688  26931.779297  ...          0             0\n",
              "2019-10-25  26789.609375  27015.369141  ...          0             0\n",
              "2019-10-28  27040.330078  27167.880859  ...          0             0\n",
              "2019-10-29  27061.070312  27165.939453  ...          0             0\n",
              "\n",
              "[5 rows x 7 columns]"
            ]
          },
          "metadata": {},
          "execution_count": 25
        }
      ]
    },
    {
      "cell_type": "code",
      "metadata": {
        "colab": {
          "base_uri": "https://localhost:8080/",
          "height": 283
        },
        "id": "aJdMyrxojnRr",
        "outputId": "39cadd96-5704-40b7-9fe5-f80bf68cd941"
      },
      "source": [
        "plt.plot(DJIA['Close'])"
      ],
      "execution_count": null,
      "outputs": [
        {
          "output_type": "execute_result",
          "data": {
            "text/plain": [
              "[<matplotlib.lines.Line2D at 0x7f37180edd10>]"
            ]
          },
          "metadata": {},
          "execution_count": 26
        },
        {
          "output_type": "display_data",
          "data": {
            "image/png": "[encoded data removed]",
            "text/plain": [
              "<Figure size 432x288 with 1 Axes>"
            ]
          },
          "metadata": {
            "needs_background": "light"
          }
        }
      ]
    },
    {
      "cell_type": "code",
      "metadata": {
        "colab": {
          "base_uri": "https://localhost:8080/",
          "height": 283
        },
        "id": "kcfg2nqlm7j-",
        "outputId": "70d26b9a-6558-47cf-e9fe-75aff21471ec"
      },
      "source": [
        "returns = 100 * DJIA['Close'].pct_change().dropna()\n",
        "returns = returns.to_numpy()\n",
        "returns = np.abs(returns)\n",
        "plt.plot(returns)\n",
        "plt.axhline(y=np.mean(returns))\n",
        "plt.axhline(y=np.median(returns),color='red')"
      ],
      "execution_count": null,
      "outputs": [
        {
          "output_type": "execute_result",
          "data": {
            "text/plain": [
              "<matplotlib.lines.Line2D at 0x7f3717a85ad0>"
            ]
          },
          "metadata": {},
          "execution_count": 50
        },
        {
          "output_type": "display_data",
          "data": {
            "image/png": "[encoded data removed]",
            "text/plain": [
              "<Figure size 432x288 with 1 Axes>"
            ]
          },
          "metadata": {
            "needs_background": "light"
          }
        }
      ]
    },
    {
      "cell_type": "code",
      "metadata": {
        "colab": {
          "base_uri": "https://localhost:8080/"
        },
        "id": "bysUZZqEq8UQ",
        "outputId": "8b763b15-860a-448d-ab7b-8e34766e234e"
      },
      "source": [
        "am = arch.arch_model(returns)\n",
        "res = am.fit()\n",
        "print(res.summary())"
      ],
      "execution_count": null,
      "outputs": [
        {
          "output_type": "stream",
          "name": "stdout",
          "text": [
            "Iteration:      1,   Func. Count:      6,   Neg. LLF: 637.1480185217865\n",
            "Iteration:      2,   Func. Count:     17,   Neg. LLF: 567.9341071899885\n",
            "Iteration:      3,   Func. Count:     25,   Neg. LLF: 565.5620403488422\n",
            "Iteration:      4,   Func. Count:     32,   Neg. LLF: 564.856299984962\n",
            "Iteration:      5,   Func. Count:     40,   Neg. LLF: 564.8016988032869\n",
            "Iteration:      6,   Func. Count:     46,   Neg. LLF: 564.1501624807245\n",
            "Iteration:      7,   Func. Count:     54,   Neg. LLF: 564.1225969786685\n",
            "Iteration:      8,   Func. Count:     62,   Neg. LLF: 563.7622132401517\n",
            "Iteration:      9,   Func. Count:     68,   Neg. LLF: 563.7607393280718\n",
            "Iteration:     10,   Func. Count:     74,   Neg. LLF: 563.7607206534066\n",
            "Iteration:     11,   Func. Count:     80,   Neg. LLF: 563.7607183954306\n",
            "Optimization terminated successfully.    (Exit mode 0)\n",
            "            Current function value: 563.7607183954169\n",
            "            Iterations: 11\n",
            "            Function evaluations: 80\n",
            "            Gradient evaluations: 11\n",
            "                     Constant Mean - GARCH Model Results                      \n",
            "==============================================================================\n",
            "Dep. Variable:                      y   R-squared:                       0.000\n",
            "Mean Model:             Constant Mean   Adj. R-squared:                  0.000\n",
            "Vol Model:                      GARCH   Log-Likelihood:               -563.761\n",
            "Distribution:                  Normal   AIC:                           1135.52\n",
            "Method:            Maximum Likelihood   BIC:                           1152.41\n",
            "                                        No. Observations:                  504\n",
            "Date:                Sun, Oct 24 2021   Df Residuals:                      503\n",
            "Time:                        16:14:59   Df Model:                            1\n",
            "                               Mean Model                               \n",
            "========================================================================\n",
            "                 coef    std err          t      P>|t|  95.0% Conf. Int.\n",
            "------------------------------------------------------------------------\n",
            "mu             0.5894  3.542e-02     16.641  3.544e-62 [  0.520,  0.659]\n",
            "                              Volatility Model                              \n",
            "============================================================================\n",
            "                 coef    std err          t      P>|t|      95.0% Conf. Int.\n",
            "----------------------------------------------------------------------------\n",
            "omega          0.0253  1.067e-02      2.375  1.755e-02 [4.427e-03,4.624e-02]\n",
            "alpha[1]       0.2150  6.386e-02      3.366  7.623e-04   [8.980e-02,  0.340]\n",
            "beta[1]        0.7716  5.293e-02     14.578  3.881e-48     [  0.668,  0.875]\n",
            "============================================================================\n",
            "\n",
            "Covariance estimator: robust\n"
          ]
        }
      ]
    },
    {
      "cell_type": "code",
      "metadata": {
        "id": "-nKWxsihu9Gl"
      },
      "source": [
        "p_list = [i for i in range(1,10)]\n",
        "q_list = [i for i in range(0,10)]\n",
        "accuracy = dict()\n",
        "\n",
        "for p in p_list:\n",
        "  for q in q_list:\n",
        "    print(p,q)\n",
        "    predictions = np.zeros(10)\n",
        "    for i in range(128,138):\n",
        "      am = arch.arch_model(returns[i:i+365],p=p,q=q,vol='GARCH',)\n",
        "      model_fit = am.fit()\n",
        "      pred = model_fit.forecast(horizon=1)\n",
        "      predictions[i-128] = pred.variance.values[-1][0]\n",
        "    accuracy[(p,q)] = np.sqrt(np.sum(((predictions-returns[-10:])/returns[-10:])**2))"
      ],
      "execution_count": null,
      "outputs": []
    },
    {
      "cell_type": "code",
      "metadata": {
        "colab": {
          "base_uri": "https://localhost:8080/"
        },
        "id": "a4UrhvCUGNhW",
        "outputId": "a3a44a39-fdcb-4b19-ed01-a53ab9459a00"
      },
      "source": [
        "len(returns)"
      ],
      "execution_count": null,
      "outputs": [
        {
          "output_type": "execute_result",
          "data": {
            "text/plain": [
              "504"
            ]
          },
          "metadata": {},
          "execution_count": 57
        }
      ]
    },
    {
      "cell_type": "code",
      "metadata": {
        "colab": {
          "base_uri": "https://localhost:8080/"
        },
        "id": "SpiaF-AnGPGK",
        "outputId": "94f34673-8932-453a-df40-ddc6d63298d0"
      },
      "source": [
        "504-128"
      ],
      "execution_count": null,
      "outputs": [
        {
          "output_type": "execute_result",
          "data": {
            "text/plain": [
              "376"
            ]
          },
          "metadata": {},
          "execution_count": 58
        }
      ]
    },
    {
      "cell_type": "code",
      "metadata": {
        "id": "JJIUQOof5W1_",
        "colab": {
          "base_uri": "https://localhost:8080/"
        },
        "outputId": "fdbe5253-4c37-4008-afc2-119b30b2372c"
      },
      "source": [
        "min_err = 10000000\n",
        "max_pq = (0,0)\n",
        "for key,value in accuracy.items():\n",
        "  if value < min_err:\n",
        "    max_pq = key\n",
        "    min_err = value\n",
        "\n",
        "print(max_pq,accuracy[max_pq])"
      ],
      "execution_count": null,
      "outputs": [
        {
          "output_type": "stream",
          "name": "stdout",
          "text": [
            "(1, 8) 130.8280300823566\n"
          ]
        }
      ]
    },
    {
      "cell_type": "code",
      "metadata": {
        "colab": {
          "base_uri": "https://localhost:8080/"
        },
        "id": "yQ78zARIDPGR",
        "outputId": "43e5a3a3-b167-49e2-85ae-1c16e0995582"
      },
      "source": [
        "for key,value in accuracy.items():\n",
        "  print(key,value)"
      ],
      "execution_count": null,
      "outputs": [
        {
          "output_type": "stream",
          "name": "stdout",
          "text": [
            "(1, 0) 343.60476719813676\n",
            "(1, 1) 184.57961632097346\n",
            "(1, 2) 184.57958672135678\n",
            "(1, 3) 184.58047660919715\n",
            "(1, 4) 184.58311468330345\n",
            "(1, 5) 184.57818029843867\n",
            "(1, 6) 130.8894998516282\n",
            "(1, 7) 130.87464352386883\n",
            "(1, 8) 130.8280300823566\n",
            "(1, 9) 131.4051905722299\n",
            "(2, 0) 308.35271712698653\n",
            "(2, 1) 193.02322543993077\n",
            "(2, 2) 212.05028411841613\n",
            "(2, 3) 211.79467205841055\n",
            "(2, 4) 211.7978115952593\n",
            "(2, 5) 216.1477145639474\n",
            "(2, 6) 216.1480477692707\n",
            "(2, 7) 211.25405682793908\n",
            "(2, 8) 211.2538509637009\n",
            "(2, 9) 207.29375505062848\n",
            "(3, 0) 229.82504193686617\n",
            "(3, 1) 193.02269876230355\n",
            "(3, 2) 212.05326457254728\n",
            "(3, 3) 211.7936100670391\n",
            "(3, 4) 211.7871572423444\n",
            "(3, 5) 216.14333082639573\n",
            "(3, 6) 216.14830307875187\n",
            "(3, 7) 211.26184558894673\n",
            "(3, 8) 211.2642530588565\n",
            "(3, 9) 207.2926757924816\n",
            "(4, 0) 212.96753712695488\n",
            "(4, 1) 181.43025740669268\n",
            "(4, 2) 198.4177486939541\n",
            "(4, 3) 196.81054984979016\n",
            "(4, 4) 200.49593281244105\n",
            "(4, 5) 193.0623054629994\n",
            "(4, 6) 193.05583386595362\n",
            "(4, 7) 189.9993075060054\n",
            "(4, 8) 189.98889994390558\n",
            "(4, 9) 193.00112147040448\n",
            "(5, 0) 201.72842575630136\n",
            "(5, 1) 181.42905273435497\n",
            "(5, 2) 198.41388018816977\n",
            "(5, 3) 196.80912684775086\n",
            "(5, 4) 199.67623020853878\n",
            "(5, 5) 191.02942381653273\n",
            "(5, 6) 191.03792707665343\n",
            "(5, 7) 190.01673043831934\n",
            "(5, 8) 186.13812067490977\n",
            "(5, 9) 193.00628802347003\n",
            "(6, 0) 177.72317204625236\n",
            "(6, 1) 177.7188462028296\n",
            "(6, 2) 198.43036203991005\n",
            "(6, 3) 196.81258048269405\n",
            "(6, 4) 199.66709505611695\n",
            "(6, 5) 191.0343933629472\n",
            "(6, 6) 191.04536492389346\n",
            "(6, 7) 186.12784488043346\n",
            "(6, 8) 190.00382411785623\n",
            "(6, 9) 193.00304453654505\n",
            "(7, 0) 177.724449312866\n",
            "(7, 1) 177.7113314783319\n",
            "(7, 2) 199.62751548374473\n",
            "(7, 3) 196.81967905312305\n",
            "(7, 4) 199.6766685483459\n",
            "(7, 5) 191.03305732001814\n",
            "(7, 6) 191.0317869852256\n",
            "(7, 7) 189.82342552247908\n",
            "(7, 8) 185.93585710552784\n",
            "(7, 9) 193.00294821406086\n",
            "(8, 0) 208.77648802210334\n",
            "(8, 1) 211.50861182957573\n",
            "(8, 2) 211.50940995506747\n",
            "(8, 3) 196.8079358547334\n",
            "(8, 4) 199.67478626604594\n",
            "(8, 5) 195.15388951698407\n",
            "(8, 6) 195.15150810365046\n",
            "(8, 7) 186.12807296889127\n",
            "(8, 8) 186.13574662226347\n",
            "(8, 9) 193.00302711303058\n",
            "(9, 0) 179.05851056819034\n",
            "(9, 1) 179.06624595975816\n",
            "(9, 2) 178.93495525859677\n",
            "(9, 3) 178.93680991670465\n",
            "(9, 4) 178.93443391276261\n",
            "(9, 5) 179.05472871483278\n",
            "(9, 6) 179.06268468097656\n",
            "(9, 7) 190.00382168322332\n",
            "(9, 8) 186.13970356417167\n",
            "(9, 9) 192.64979907345284\n"
          ]
        }
      ]
    },
    {
      "cell_type": "code",
      "metadata": {
        "id": "eTrAgk2fDSsq"
      },
      "source": [
        ""
      ],
      "execution_count": null,
      "outputs": []
    }
  ]
}